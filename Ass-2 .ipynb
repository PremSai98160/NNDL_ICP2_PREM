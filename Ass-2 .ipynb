{
  "metadata": {
    "kernelspec": {
      "name": "python",
      "display_name": "Python (Pyodide)",
      "language": "python"
    },
    "language_info": {
      "codemirror_mode": {
        "name": "python",
        "version": 3
      },
      "file_extension": ".py",
      "mimetype": "text/x-python",
      "name": "python",
      "nbconvert_exporter": "python",
      "pygments_lexer": "ipython3",
      "version": "3.8"
    }
  },
  "nbformat_minor": 5,
  "nbformat": 4,
  "cells": [
    {
      "id": "17a1eca3-0152-44d3-8e66-0b2933c83ea3",
      "cell_type": "code",
      "source": "class Employee:\n    num_employees = 0\n\n    def __init__(self, name, family, salary, department):\n        self.name = name\n        self.family = family\n        self.salary = salary\n        self.department = department\n        Employee.num_employees += 1\n\n    @staticmethod\n    def average_salary(employees):\n        total_salary = sum(emp.salary for emp in employees)\n        return total_salary / len(employees)\n\nclass FulltimeEmployee(Employee):\n    def __init__(self, name, family, salary, department, experience):\n        super().__init__(name, family, salary, department)\n        self.experience = experience\n\nemployee1 = Employee(\"John Doe\", \"Family A\", 60000, \"HR\")\nemployee2 = Employee(\"Jane Smith\", \"Family B\", 75000, \"Finance\")\n\nfulltime_employee1 = FulltimeEmployee(\"Alice Johnson\", \"Family C\", 80000, \"IT\", 3)\nfulltime_employee2 = FulltimeEmployee(\"Bob Williams\", \"Family D\", 90000, \"Engineering\", 5)\n\nemployees = [employee1, employee2, fulltime_employee1, fulltime_employee2]\navg_salary = Employee.average_salary(employees)\n\nprint(\"Total number of employees:\", Employee.num_employees)\nprint(\"Average salary:\", avg_salary)",
      "metadata": {
        "trusted": true
      },
      "outputs": [
        {
          "name": "stdout",
          "output_type": "stream",
          "text": "Total number of employees: 4\nAverage salary: 76250.0\n"
        }
      ],
      "execution_count": 1
    },
    {
      "id": "c7586ab7-214f-4588-8713-054ad89c75ec",
      "cell_type": "code",
      "source": "import numpy as np\nrandom_vector = np.random.uniform(1, 20, size=20)\nprint(\"Original array:\")\nprint(random_vector)\n\nreshaped_array = random_vector.reshape(4, 5)\n\nmax_indices = np.argmax(reshaped_array, axis=1)\n\nreshaped_array[np.arange(4), max_indices] = 0\n\nprint(\"\\nReshaped array:\")\nprint(reshaped_array)",
      "metadata": {
        "trusted": true
      },
      "outputs": [
        {
          "name": "stdout",
          "output_type": "stream",
          "text": "Original array:\n[12.21239718  2.16240881  3.15838817  8.62167811  6.12389539 16.10806443\n 11.42459601 18.76059084 13.16142029 17.00069625 19.38456398  4.93136608\n 16.28820078 17.21109435  7.67058427 12.95952217 17.2150565  13.29886347\n 16.75958444  6.18644663]\n\nReshaped array:\n[[ 0.          2.16240881  3.15838817  8.62167811  6.12389539]\n [16.10806443 11.42459601  0.         13.16142029 17.00069625]\n [ 0.          4.93136608 16.28820078 17.21109435  7.67058427]\n [12.95952217  0.         13.29886347 16.75958444  6.18644663]]\n"
        }
      ],
      "execution_count": 2
    }
  ]
}